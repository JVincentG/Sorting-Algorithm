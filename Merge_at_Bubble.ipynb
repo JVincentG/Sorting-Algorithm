{
  "nbformat": 4,
  "nbformat_minor": 0,
  "metadata": {
    "colab": {
      "name": "Merge at Bubble.ipynb",
      "provenance": [],
      "collapsed_sections": [],
      "toc_visible": true,
      "authorship_tag": "ABX9TyPoCSNDAE8D1nEBdySk2CFO",
      "include_colab_link": true
    },
    "kernelspec": {
      "name": "python3",
      "display_name": "Python 3"
    },
    "language_info": {
      "name": "python"
    }
  },
  "cells": [
    {
      "cell_type": "markdown",
      "metadata": {
        "id": "view-in-github",
        "colab_type": "text"
      },
      "source": [
        "<a href=\"https://colab.research.google.com/github/Ragnov/Sorting-Algorithm/blob/main/Merge_at_Bubble.ipynb\" target=\"_parent\"><img src=\"https://colab.research.google.com/assets/colab-badge.svg\" alt=\"Open In Colab\"/></a>"
      ]
    },
    {
      "cell_type": "markdown",
      "metadata": {
        "id": "vACNm5EXAGVi"
      },
      "source": [
        "# Bubble Sort and Merge Sort Time Complexity Comparison"
      ]
    },
    {
      "cell_type": "markdown",
      "metadata": {
        "id": "Xy4ciL9YRB7B"
      },
      "source": [
        "## Time taken for 50 Elements"
      ]
    },
    {
      "cell_type": "code",
      "metadata": {
        "id": "3XFZQGEFA0vn"
      },
      "source": [
        "def num_gen():\n",
        "  ob = random.sample(range(50), 50)\n",
        "  return ob\n",
        "\n",
        "ob = num_gen()\n",
        "arr = ob"
      ],
      "execution_count": null,
      "outputs": []
    },
    {
      "cell_type": "code",
      "metadata": {
        "colab": {
          "base_uri": "https://localhost:8080/"
        },
        "id": "tNMhGlWzRRxu",
        "outputId": "0715a20d-b4f2-43e1-8922-3f35b1276560"
      },
      "source": [
        "# Python program for implementation of Bubble Sort\n",
        "def bubbleSort(arr):\n",
        "  n = len(arr)\n",
        "\n",
        "  for i in range(n):\n",
        "    for j in range(0, n-i-1):\n",
        "      if arr[j] > arr[j+1] :\n",
        "        arr[j], arr[j+1] = arr[j+1], arr[j]\n",
        "\n",
        "start_time = time.time()\n",
        "bubbleSort(arr)\n",
        "print(\"--- %s seconds ---\" % (time.time() - start_time))"
      ],
      "execution_count": null,
      "outputs": [
        {
          "output_type": "stream",
          "text": [
            "--- 0.0003039836883544922 seconds ---\n"
          ],
          "name": "stdout"
        }
      ]
    },
    {
      "cell_type": "code",
      "metadata": {
        "colab": {
          "base_uri": "https://localhost:8080/"
        },
        "id": "uk9gzDvBZ6-8",
        "outputId": "ea5ed6f9-e62f-4a44-8c58-3f474bf47e0b"
      },
      "source": [
        "# Python program for implementation of MergeSort\n",
        "def mergeSort(arr):\n",
        "    if len(arr) > 1:\n",
        "        r = len(arr)//2\n",
        "        L = arr[:r]\n",
        "        M = arr[r:]\n",
        "\n",
        "        mergeSort(L)\n",
        "        mergeSort(M)\n",
        "        i = j = k = 0\n",
        "        while i < len(L) and j < len(M):\n",
        "            if L[i] < M[j]:\n",
        "                arr[k] = L[i]\n",
        "                i += 1\n",
        "            else:\n",
        "                arr[k] = M[j]\n",
        "                j += 1\n",
        "            k += 1\n",
        "\n",
        "start_time = time.time()\n",
        "mergeSort(arr)\n",
        "print(\"--- %s seconds ---\" % (time.time() - start_time))"
      ],
      "execution_count": null,
      "outputs": [
        {
          "output_type": "stream",
          "text": [
            "--- 0.00012826919555664062 seconds ---\n"
          ],
          "name": "stdout"
        }
      ]
    },
    {
      "cell_type": "markdown",
      "metadata": {
        "id": "Cl_G6IoUcVlr"
      },
      "source": [
        "## Time taken for 100 Elements\n"
      ]
    },
    {
      "cell_type": "code",
      "metadata": {
        "id": "mcE8fSi_BSVz"
      },
      "source": [
        "def num_gen():\n",
        "  ob = random.sample(range(100), 100)\n",
        "  return ob\n",
        "\n",
        "ob = num_gen()\n",
        "arr = ob"
      ],
      "execution_count": null,
      "outputs": []
    },
    {
      "cell_type": "code",
      "metadata": {
        "colab": {
          "base_uri": "https://localhost:8080/"
        },
        "id": "ZGzlnOeHchnP",
        "outputId": "353bf479-85c1-475c-8daa-e7bc509de0fc"
      },
      "source": [
        "# Python program for implementation of Bubble Sort\n",
        "def bubbleSort(arr):\n",
        "  n = len(arr)\n",
        "\n",
        "  for i in range(n):\n",
        "    for j in range(0, n-i-1):\n",
        "      if arr[j] > arr[j+1] :\n",
        "        arr[j], arr[j+1] = arr[j+1], arr[j]\n",
        "\n",
        "start_time = time.time()\n",
        "bubbleSort(arr)\n",
        "print(\"--- %s seconds ---\" % (time.time() - start_time))"
      ],
      "execution_count": null,
      "outputs": [
        {
          "output_type": "stream",
          "text": [
            "--- 0.0013093948364257812 seconds ---\n"
          ],
          "name": "stdout"
        }
      ]
    },
    {
      "cell_type": "code",
      "metadata": {
        "colab": {
          "base_uri": "https://localhost:8080/"
        },
        "id": "Kcfde-8zciMK",
        "outputId": "4d7c2458-732a-48ad-842f-21c7dcf76154"
      },
      "source": [
        "# Python program for implementation of MergeSort\n",
        "def mergeSort(arr):\n",
        "    if len(arr) > 1:\n",
        "        r = len(arr)//2\n",
        "        L = arr[:r]\n",
        "        M = arr[r:]\n",
        "\n",
        "        mergeSort(L)\n",
        "        mergeSort(M)\n",
        "        i = j = k = 0\n",
        "        while i < len(L) and j < len(M):\n",
        "            if L[i] < M[j]:\n",
        "                arr[k] = L[i]\n",
        "                i += 1\n",
        "            else:\n",
        "                arr[k] = M[j]\n",
        "                j += 1\n",
        "            k += 1\n",
        "\n",
        "start_time = time.time()\n",
        "mergeSort(arr)\n",
        "print(\"--- %s seconds ---\" % (time.time() - start_time))"
      ],
      "execution_count": null,
      "outputs": [
        {
          "output_type": "stream",
          "text": [
            "--- 0.00023031234741210938 seconds ---\n"
          ],
          "name": "stdout"
        }
      ]
    },
    {
      "cell_type": "markdown",
      "metadata": {
        "id": "ZEUarV21ddjD"
      },
      "source": [
        "## Time Taken for 500 Elements"
      ]
    },
    {
      "cell_type": "code",
      "metadata": {
        "id": "I5DCy6VLBkS6"
      },
      "source": [
        "def num_gen():\n",
        "  ob = random.sample(range(500), 500)\n",
        "  return ob\n",
        "\n",
        "ob = num_gen()\n",
        "arr = ob"
      ],
      "execution_count": null,
      "outputs": []
    },
    {
      "cell_type": "code",
      "metadata": {
        "colab": {
          "base_uri": "https://localhost:8080/"
        },
        "id": "g70450eVdsMx",
        "outputId": "b0384699-a657-44f4-da62-639167fba5ea"
      },
      "source": [
        "# Python program for implementation of Bubble Sort\n",
        "def bubbleSort(arr):\n",
        "  n = len(arr)\n",
        "\n",
        "  for i in range(n):\n",
        "    for j in range(0, n-i-1):\n",
        "      if arr[j] > arr[j+1] :\n",
        "        arr[j], arr[j+1] = arr[j+1], arr[j]\n",
        "\n",
        "start_time = time.time()\n",
        "bubbleSort(arr)\n",
        "print(\"--- %s seconds ---\" % (time.time() - start_time))"
      ],
      "execution_count": null,
      "outputs": [
        {
          "output_type": "stream",
          "text": [
            "--- 0.023963212966918945 seconds ---\n"
          ],
          "name": "stdout"
        }
      ]
    },
    {
      "cell_type": "code",
      "metadata": {
        "colab": {
          "base_uri": "https://localhost:8080/"
        },
        "id": "ovzlCWKHdsFB",
        "outputId": "6a5d4bde-59f8-415a-cecc-1f6568523c80"
      },
      "source": [
        "# Python program for implementation of MergeSort\n",
        "def mergeSort(arr):\n",
        "    if len(arr) > 1:\n",
        "        r = len(arr)//2\n",
        "        L = arr[:r]\n",
        "        M = arr[r:]\n",
        "\n",
        "        mergeSort(L)\n",
        "        mergeSort(M)\n",
        "        i = j = k = 0\n",
        "        while i < len(L) and j < len(M):\n",
        "            if L[i] < M[j]:\n",
        "                arr[k] = L[i]\n",
        "                i += 1\n",
        "            else:\n",
        "                arr[k] = M[j]\n",
        "                j += 1\n",
        "            k += 1\n",
        "\n",
        "start_time = time.time()\n",
        "mergeSort(arr)\n",
        "print(\"--- %s seconds ---\" % (time.time() - start_time))"
      ],
      "execution_count": null,
      "outputs": [
        {
          "output_type": "stream",
          "text": [
            "--- 0.00115203857421875 seconds ---\n"
          ],
          "name": "stdout"
        }
      ]
    },
    {
      "cell_type": "markdown",
      "metadata": {
        "id": "KwvGw60-eblE"
      },
      "source": [
        "## Time Taken for 1000 Elements"
      ]
    },
    {
      "cell_type": "code",
      "metadata": {
        "id": "A_g8ONwnCJmd"
      },
      "source": [
        "def num_gen():\n",
        "  ob = random.sample(range(1000), 1000)\n",
        "  return ob\n",
        "\n",
        "ob = num_gen()\n",
        "arr = ob"
      ],
      "execution_count": null,
      "outputs": []
    },
    {
      "cell_type": "code",
      "metadata": {
        "colab": {
          "base_uri": "https://localhost:8080/"
        },
        "id": "Si6GTfveegvC",
        "outputId": "c7e190d5-2fdf-4033-bdf9-4c3b86effff6"
      },
      "source": [
        "# Python program for implementation of Bubble Sort\n",
        "def bubbleSort(arr):\n",
        "  n = len(arr)\n",
        "\n",
        "  for i in range(n):\n",
        "    for j in range(0, n-i-1):\n",
        "      if arr[j] > arr[j+1] :\n",
        "        arr[j], arr[j+1] = arr[j+1], arr[j]\n",
        "\n",
        "start_time = time.time()\n",
        "bubbleSort(arr)\n",
        "print(\"--- %s seconds ---\" % (time.time() - start_time))"
      ],
      "execution_count": null,
      "outputs": [
        {
          "output_type": "stream",
          "text": [
            "--- 0.10118913650512695 seconds ---\n"
          ],
          "name": "stdout"
        }
      ]
    },
    {
      "cell_type": "code",
      "metadata": {
        "colab": {
          "base_uri": "https://localhost:8080/"
        },
        "id": "h3L_0zy7eg-Z",
        "outputId": "0a05a0a0-15c1-456e-902c-3b1ccc99a6cf"
      },
      "source": [
        "# Python program for implementation of MergeSort\n",
        "def mergeSort(arr):\n",
        "    if len(arr) > 1:\n",
        "        r = len(arr)//2\n",
        "        L = arr[:r]\n",
        "        M = arr[r:]\n",
        "\n",
        "        mergeSort(L)\n",
        "        mergeSort(M)\n",
        "        i = j = k = 0\n",
        "        while i < len(L) and j < len(M):\n",
        "            if L[i] < M[j]:\n",
        "                arr[k] = L[i]\n",
        "                i += 1\n",
        "            else:\n",
        "                arr[k] = M[j]\n",
        "                j += 1\n",
        "            k += 1\n",
        "\n",
        "start_time = time.time()\n",
        "mergeSort(arr)\n",
        "print(\"--- %s seconds ---\" % (time.time() - start_time))"
      ],
      "execution_count": null,
      "outputs": [
        {
          "output_type": "stream",
          "text": [
            "--- 0.0023679733276367188 seconds ---\n"
          ],
          "name": "stdout"
        }
      ]
    },
    {
      "cell_type": "markdown",
      "metadata": {
        "id": "w6F-tKKHCOIJ"
      },
      "source": [
        "## Time Taken for 5000 Elements"
      ]
    },
    {
      "cell_type": "code",
      "metadata": {
        "id": "UAGgwRIdCRw3"
      },
      "source": [
        "def num_gen():\n",
        "  ob = random.sample(range(5000), 5000)\n",
        "  return ob\n",
        "\n",
        "ob = num_gen()\n",
        "arr = ob"
      ],
      "execution_count": null,
      "outputs": []
    },
    {
      "cell_type": "code",
      "metadata": {
        "colab": {
          "base_uri": "https://localhost:8080/"
        },
        "id": "7zhl_8m0CVJy",
        "outputId": "a8811fe6-ebb0-402f-8280-c9e8f935698f"
      },
      "source": [
        "# Python program for implementation of Bubble Sort\n",
        "def bubbleSort(arr):\n",
        "  n = len(arr)\n",
        "\n",
        "  for i in range(n):\n",
        "    for j in range(0, n-i-1):\n",
        "      if arr[j] > arr[j+1] :\n",
        "        arr[j], arr[j+1] = arr[j+1], arr[j]\n",
        "\n",
        "start_time = time.time()\n",
        "bubbleSort(arr)\n",
        "print(\"--- %s seconds ---\" % (time.time() - start_time))"
      ],
      "execution_count": null,
      "outputs": [
        {
          "output_type": "stream",
          "text": [
            "--- 2.646465539932251 seconds ---\n"
          ],
          "name": "stdout"
        }
      ]
    },
    {
      "cell_type": "code",
      "metadata": {
        "colab": {
          "base_uri": "https://localhost:8080/"
        },
        "id": "luvOsYUCCV8w",
        "outputId": "1a7956e1-2931-4aa6-8ffb-36208a3f7b4f"
      },
      "source": [
        "# Python program for implementation of MergeSort\n",
        "def mergeSort(arr):\n",
        "    if len(arr) > 1:\n",
        "        r = len(arr)//2\n",
        "        L = arr[:r]\n",
        "        M = arr[r:]\n",
        "\n",
        "        mergeSort(L)\n",
        "        mergeSort(M)\n",
        "        i = j = k = 0\n",
        "        while i < len(L) and j < len(M):\n",
        "            if L[i] < M[j]:\n",
        "                arr[k] = L[i]\n",
        "                i += 1\n",
        "            else:\n",
        "                arr[k] = M[j]\n",
        "                j += 1\n",
        "            k += 1\n",
        "\n",
        "start_time = time.time()\n",
        "mergeSort(arr)\n",
        "print(\"--- %s seconds ---\" % (time.time() - start_time))"
      ],
      "execution_count": null,
      "outputs": [
        {
          "output_type": "stream",
          "text": [
            "--- 0.014118432998657227 seconds ---\n"
          ],
          "name": "stdout"
        }
      ]
    },
    {
      "cell_type": "markdown",
      "metadata": {
        "id": "gQnZdgNVCZBO"
      },
      "source": [
        "## Time Taken for 10000 Elements"
      ]
    },
    {
      "cell_type": "code",
      "metadata": {
        "id": "i2sDzW0gCeCf"
      },
      "source": [
        "def num_gen():\n",
        "  ob = random.sample(range(10000), 10000)\n",
        "  return ob\n",
        "\n",
        "ob = num_gen()\n",
        "arr = ob"
      ],
      "execution_count": null,
      "outputs": []
    },
    {
      "cell_type": "code",
      "metadata": {
        "colab": {
          "base_uri": "https://localhost:8080/"
        },
        "id": "GWBCc60FChr4",
        "outputId": "011821e9-493c-4c7e-94d2-53fa11c0271e"
      },
      "source": [
        "# Python program for implementation of Bubble Sort\n",
        "def bubbleSort(arr):\n",
        "  n = len(arr)\n",
        "\n",
        "  for i in range(n):\n",
        "    for j in range(0, n-i-1):\n",
        "      if arr[j] > arr[j+1] :\n",
        "        arr[j], arr[j+1] = arr[j+1], arr[j]\n",
        "\n",
        "start_time = time.time()\n",
        "bubbleSort(arr)\n",
        "print(\"--- %s seconds ---\" % (time.time() - start_time))"
      ],
      "execution_count": null,
      "outputs": [
        {
          "output_type": "stream",
          "text": [
            "--- 10.430031538009644 seconds ---\n"
          ],
          "name": "stdout"
        }
      ]
    },
    {
      "cell_type": "code",
      "metadata": {
        "colab": {
          "base_uri": "https://localhost:8080/"
        },
        "id": "9gyrzAAmCi-_",
        "outputId": "16ac24f6-4183-4f5a-b97a-bb6dc88dbc0c"
      },
      "source": [
        "# Python program for implementation of MergeSort\n",
        "def mergeSort(arr):\n",
        "    if len(arr) > 1:\n",
        "        r = len(arr)//2\n",
        "        L = arr[:r]\n",
        "        M = arr[r:]\n",
        "\n",
        "        mergeSort(L)\n",
        "        mergeSort(M)\n",
        "        i = j = k = 0\n",
        "        while i < len(L) and j < len(M):\n",
        "            if L[i] < M[j]:\n",
        "                arr[k] = L[i]\n",
        "                i += 1\n",
        "            else:\n",
        "                arr[k] = M[j]\n",
        "                j += 1\n",
        "            k += 1\n",
        "\n",
        "start_time = time.time()\n",
        "mergeSort(arr)\n",
        "print(\"--- %s seconds ---\" % (time.time() - start_time))"
      ],
      "execution_count": null,
      "outputs": [
        {
          "output_type": "stream",
          "text": [
            "--- 0.0323636531829834 seconds ---\n"
          ],
          "name": "stdout"
        }
      ]
    }
  ]
}