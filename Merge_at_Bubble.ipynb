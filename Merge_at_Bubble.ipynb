{
  "nbformat": 4,
  "nbformat_minor": 0,
  "metadata": {
    "colab": {
      "name": "Merge at Bubble.ipynb",
      "provenance": [],
      "collapsed_sections": [],
      "toc_visible": true,
      "authorship_tag": "ABX9TyOfXuMXII0ejzfurjXWsuQq",
      "include_colab_link": true
    },
    "kernelspec": {
      "name": "python3",
      "display_name": "Python 3"
    },
    "language_info": {
      "name": "python"
    }
  },
  "cells": [
    {
      "cell_type": "markdown",
      "metadata": {
        "id": "view-in-github",
        "colab_type": "text"
      },
      "source": [
        "<a href=\"https://colab.research.google.com/github/Ragnov/Sorting-Algorithm/blob/main/Merge_at_Bubble.ipynb\" target=\"_parent\"><img src=\"https://colab.research.google.com/assets/colab-badge.svg\" alt=\"Open In Colab\"/></a>"
      ]
    },
    {
      "cell_type": "markdown",
      "metadata": {
        "id": "vACNm5EXAGVi"
      },
      "source": [
        "# Bubble Sort and Merge Sort Time Complexity Comparison"
      ]
    },
    {
      "cell_type": "code",
      "metadata": {
        "id": "r9IzCPK7FTVN"
      },
      "source": [
        "import random\n",
        "import time"
      ],
      "execution_count": null,
      "outputs": []
    },
    {
      "cell_type": "markdown",
      "metadata": {
        "id": "Xy4ciL9YRB7B"
      },
      "source": [
        "## Time taken for 50 Elements"
      ]
    },
    {
      "cell_type": "code",
      "metadata": {
        "id": "3XFZQGEFA0vn"
      },
      "source": [
        "def num_gen():\n",
        "  ob = random.sample(range(50), 50)\n",
        "  return ob\n",
        "\n",
        "ob = num_gen()\n",
        "arr = ob"
      ],
      "execution_count": null,
      "outputs": []
    },
    {
      "cell_type": "code",
      "metadata": {
        "colab": {
          "base_uri": "https://localhost:8080/"
        },
        "id": "tNMhGlWzRRxu",
        "outputId": "a5efc2f2-1192-49df-b281-b8c60ccf9039"
      },
      "source": [
        "# Python program for implementation of Bubble Sort\n",
        "def bubbleSort(arr):\n",
        "  n = len(arr)\n",
        "\n",
        "  for i in range(n):\n",
        "    for j in range(0, n-i-1):\n",
        "      if arr[j] > arr[j+1] :\n",
        "        arr[j], arr[j+1] = arr[j+1], arr[j]\n",
        "\n",
        "start_time = time.time()\n",
        "bubbleSort(arr)\n",
        "print(\"--- %s seconds ---\" % (time.time() - start_time))"
      ],
      "execution_count": null,
      "outputs": [
        {
          "output_type": "stream",
          "text": [
            "--- 0.0005726814270019531 seconds ---\n"
          ],
          "name": "stdout"
        }
      ]
    },
    {
      "cell_type": "code",
      "metadata": {
        "colab": {
          "base_uri": "https://localhost:8080/"
        },
        "id": "uk9gzDvBZ6-8",
        "outputId": "ca411330-202f-4857-dd9b-924e8c72a339"
      },
      "source": [
        "# Python program for implementation of MergeSort\n",
        "def mergeSort(arr):\n",
        "    if len(arr) > 1:\n",
        "        r = len(arr)//2\n",
        "        L = arr[:r]\n",
        "        M = arr[r:]\n",
        "\n",
        "        mergeSort(L)\n",
        "        mergeSort(M)\n",
        "        i = j = k = 0\n",
        "        while i < len(L) and j < len(M):\n",
        "            if L[i] < M[j]:\n",
        "                arr[k] = L[i]\n",
        "                i += 1\n",
        "            else:\n",
        "                arr[k] = M[j]\n",
        "                j += 1\n",
        "            k += 1\n",
        "\n",
        "start_time = time.time()\n",
        "mergeSort(arr)\n",
        "print(\"--- %s seconds ---\" % (time.time() - start_time))"
      ],
      "execution_count": null,
      "outputs": [
        {
          "output_type": "stream",
          "text": [
            "--- 0.0004601478576660156 seconds ---\n"
          ],
          "name": "stdout"
        }
      ]
    },
    {
      "cell_type": "markdown",
      "metadata": {
        "id": "Cl_G6IoUcVlr"
      },
      "source": [
        "## Time taken for 100 Elements\n"
      ]
    },
    {
      "cell_type": "code",
      "metadata": {
        "id": "mcE8fSi_BSVz"
      },
      "source": [
        "def num_gen():\n",
        "  ob = random.sample(range(100), 100)\n",
        "  return ob\n",
        "\n",
        "ob = num_gen()\n",
        "arr = ob"
      ],
      "execution_count": null,
      "outputs": []
    },
    {
      "cell_type": "code",
      "metadata": {
        "colab": {
          "base_uri": "https://localhost:8080/"
        },
        "id": "ZGzlnOeHchnP",
        "outputId": "24ef70ce-286b-4fc4-8428-24a6fc47e23c"
      },
      "source": [
        "start_time = time.time()\n",
        "bubbleSort(arr)\n",
        "print(\"--- %s seconds ---\" % (time.time() - start_time))"
      ],
      "execution_count": null,
      "outputs": [
        {
          "output_type": "stream",
          "text": [
            "--- 0.0018129348754882812 seconds ---\n"
          ],
          "name": "stdout"
        }
      ]
    },
    {
      "cell_type": "code",
      "metadata": {
        "colab": {
          "base_uri": "https://localhost:8080/"
        },
        "id": "Kcfde-8zciMK",
        "outputId": "e4e6f7e4-cbee-4a40-8965-90891df9110b"
      },
      "source": [
        "start_time = time.time()\n",
        "mergeSort(arr)\n",
        "print(\"--- %s seconds ---\" % (time.time() - start_time))"
      ],
      "execution_count": null,
      "outputs": [
        {
          "output_type": "stream",
          "text": [
            "--- 0.00042366981506347656 seconds ---\n"
          ],
          "name": "stdout"
        }
      ]
    },
    {
      "cell_type": "markdown",
      "metadata": {
        "id": "ZEUarV21ddjD"
      },
      "source": [
        "## Time Taken for 500 Elements"
      ]
    },
    {
      "cell_type": "code",
      "metadata": {
        "id": "I5DCy6VLBkS6"
      },
      "source": [
        "def num_gen():\n",
        "  ob = random.sample(range(500), 500)\n",
        "  return ob\n",
        "\n",
        "ob = num_gen()\n",
        "arr = ob"
      ],
      "execution_count": null,
      "outputs": []
    },
    {
      "cell_type": "code",
      "metadata": {
        "colab": {
          "base_uri": "https://localhost:8080/"
        },
        "id": "g70450eVdsMx",
        "outputId": "32b50f6c-2c4a-44d9-b81e-7f7861d8e33c"
      },
      "source": [
        "start_time = time.time()\n",
        "bubbleSort(arr)\n",
        "print(\"--- %s seconds ---\" % (time.time() - start_time))"
      ],
      "execution_count": null,
      "outputs": [
        {
          "output_type": "stream",
          "text": [
            "--- 0.025431156158447266 seconds ---\n"
          ],
          "name": "stdout"
        }
      ]
    },
    {
      "cell_type": "code",
      "metadata": {
        "colab": {
          "base_uri": "https://localhost:8080/"
        },
        "id": "ovzlCWKHdsFB",
        "outputId": "923bd86c-2546-40ac-e752-781b20233922"
      },
      "source": [
        "start_time = time.time()\n",
        "mergeSort(arr)\n",
        "print(\"--- %s seconds ---\" % (time.time() - start_time))"
      ],
      "execution_count": null,
      "outputs": [
        {
          "output_type": "stream",
          "text": [
            "--- 0.0020797252655029297 seconds ---\n"
          ],
          "name": "stdout"
        }
      ]
    },
    {
      "cell_type": "markdown",
      "metadata": {
        "id": "KwvGw60-eblE"
      },
      "source": [
        "## Time Taken for 1000 Elements"
      ]
    },
    {
      "cell_type": "code",
      "metadata": {
        "id": "A_g8ONwnCJmd"
      },
      "source": [
        "def num_gen():\n",
        "  ob = random.sample(range(1000), 1000)\n",
        "  return ob\n",
        "\n",
        "ob = num_gen()\n",
        "arr = ob"
      ],
      "execution_count": null,
      "outputs": []
    },
    {
      "cell_type": "code",
      "metadata": {
        "colab": {
          "base_uri": "https://localhost:8080/"
        },
        "id": "Si6GTfveegvC",
        "outputId": "056cfb28-cecc-4db1-a0dd-7c6824ddd8be"
      },
      "source": [
        "start_time = time.time()\n",
        "bubbleSort(arr)\n",
        "print(\"--- %s seconds ---\" % (time.time() - start_time))"
      ],
      "execution_count": null,
      "outputs": [
        {
          "output_type": "stream",
          "text": [
            "--- 0.10827898979187012 seconds ---\n"
          ],
          "name": "stdout"
        }
      ]
    },
    {
      "cell_type": "code",
      "metadata": {
        "colab": {
          "base_uri": "https://localhost:8080/"
        },
        "id": "h3L_0zy7eg-Z",
        "outputId": "e0f6993e-2327-4d8e-dcb8-5409bfe28948"
      },
      "source": [
        "start_time = time.time()\n",
        "mergeSort(arr)\n",
        "print(\"--- %s seconds ---\" % (time.time() - start_time))"
      ],
      "execution_count": null,
      "outputs": [
        {
          "output_type": "stream",
          "text": [
            "--- 0.004459857940673828 seconds ---\n"
          ],
          "name": "stdout"
        }
      ]
    },
    {
      "cell_type": "markdown",
      "metadata": {
        "id": "w6F-tKKHCOIJ"
      },
      "source": [
        "## Time Taken for 5000 Elements"
      ]
    },
    {
      "cell_type": "code",
      "metadata": {
        "id": "UAGgwRIdCRw3"
      },
      "source": [
        "def num_gen():\n",
        "  ob = random.sample(range(5000), 5000)\n",
        "  return ob\n",
        "\n",
        "ob = num_gen()\n",
        "arr = ob"
      ],
      "execution_count": null,
      "outputs": []
    },
    {
      "cell_type": "code",
      "metadata": {
        "colab": {
          "base_uri": "https://localhost:8080/"
        },
        "id": "7zhl_8m0CVJy",
        "outputId": "526e1360-0f82-4ed5-8cfe-44bbc931fff2"
      },
      "source": [
        "start_time = time.time()\n",
        "bubbleSort(arr)\n",
        "print(\"--- %s seconds ---\" % (time.time() - start_time))"
      ],
      "execution_count": null,
      "outputs": [
        {
          "output_type": "stream",
          "text": [
            "--- 2.6521542072296143 seconds ---\n"
          ],
          "name": "stdout"
        }
      ]
    },
    {
      "cell_type": "code",
      "metadata": {
        "colab": {
          "base_uri": "https://localhost:8080/"
        },
        "id": "luvOsYUCCV8w",
        "outputId": "e628d2e3-0fb8-4ab9-c8d0-cf46526b3313"
      },
      "source": [
        "start_time = time.time()\n",
        "mergeSort(arr)\n",
        "print(\"--- %s seconds ---\" % (time.time() - start_time))"
      ],
      "execution_count": null,
      "outputs": [
        {
          "output_type": "stream",
          "text": [
            "--- 0.019260644912719727 seconds ---\n"
          ],
          "name": "stdout"
        }
      ]
    },
    {
      "cell_type": "markdown",
      "metadata": {
        "id": "gQnZdgNVCZBO"
      },
      "source": [
        "## Time Taken for 10000 Elements"
      ]
    },
    {
      "cell_type": "code",
      "metadata": {
        "id": "i2sDzW0gCeCf"
      },
      "source": [
        "def num_gen():\n",
        "  ob = random.sample(range(10000), 10000)\n",
        "  return ob\n",
        "\n",
        "ob = num_gen()\n",
        "arr = ob"
      ],
      "execution_count": null,
      "outputs": []
    },
    {
      "cell_type": "code",
      "metadata": {
        "colab": {
          "base_uri": "https://localhost:8080/"
        },
        "id": "GWBCc60FChr4",
        "outputId": "ebb0dd97-137b-4029-d979-21e81c64025e"
      },
      "source": [
        "start_time = time.time()\n",
        "bubbleSort(arr)\n",
        "print(\"--- %s seconds ---\" % (time.time() - start_time))"
      ],
      "execution_count": null,
      "outputs": [
        {
          "output_type": "stream",
          "text": [
            "--- 10.168628931045532 seconds ---\n"
          ],
          "name": "stdout"
        }
      ]
    },
    {
      "cell_type": "code",
      "metadata": {
        "colab": {
          "base_uri": "https://localhost:8080/"
        },
        "id": "9gyrzAAmCi-_",
        "outputId": "668399f4-b2d8-40e6-ccb4-3d96e672d14e"
      },
      "source": [
        "start_time = time.time()\n",
        "mergeSort(arr)\n",
        "print(\"--- %s seconds ---\" % (time.time() - start_time))"
      ],
      "execution_count": null,
      "outputs": [
        {
          "output_type": "stream",
          "text": [
            "--- 0.03345823287963867 seconds ---\n"
          ],
          "name": "stdout"
        }
      ]
    }
  ]
}